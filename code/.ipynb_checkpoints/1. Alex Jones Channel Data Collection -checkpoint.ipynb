{
 "cells": [
  {
   "cell_type": "markdown",
   "metadata": {},
   "source": [
    "# 1. Alex Jones Videos Data Collection \n",
    "\n",
    "On his YouTube channel, Alex Jones often posts videos attacking the credibility of mainstream media. We are interested in doing a small analysis of this phenonemon to see if we might be able to characterize these attacks. \n",
    "\n",
    "First, we'll need to collect the metadata for all the videos posted between January 1st, 2015 and May 4th, 2018 (as specified). \n",
    "\n",
    "For this code to work, you'll need to replace the youtube_key with a valid Google Youtube API token. "
   ]
  },
  {
   "cell_type": "markdown",
   "metadata": {},
   "source": [
    "We're going to use the pandas library because it's useful and quick when manipulating large amounts of data. "
   ]
  },
  {
   "cell_type": "code",
   "execution_count": null,
   "metadata": {},
   "outputs": [],
   "source": [
    "import requests\n",
    "import urllib\n",
    "import pandas as pd\n",
    "\n",
    "###### CHANGE THIS #######\n",
    "youtube_key = \"mykey\"\n",
    "##########################"
   ]
  },
  {
   "cell_type": "markdown",
   "metadata": {},
   "source": [
    "We'll first need to write a function that accesses the YouTube API. We'll be able to use this everytime we need to query some information. This function accepts a list of tuples that contains the information for our query, as well as the type of resource (a playlist, channel, video, etc.) we are concerned with. It encodes the list of tuples into a string that can be used with the URL to request the JSON with the information necessary. "
   ]
  },
  {
   "cell_type": "code",
   "execution_count": null,
   "metadata": {},
   "outputs": [],
   "source": [
    "def get_response(query_type, parameters):\n",
    "    '''\n",
    "    inputs: query_type - the resource type that we need information for (e.g. playlists, channels, videos, etc.)\n",
    "            parameters - list of tuples with the parameter names and their values in our query \n",
    "                            (ex: [('part', 'contentDetails'), ('forUsername', 'username')]\n",
    "    '''\n",
    "    \n",
    "    base_url = 'https://www.googleapis.com/youtube/v3/'\n",
    "    \n",
    "    # We always need to pass our key, so we'll add it to the list here\n",
    "    parameters.append(('key', youtube_key))\n",
    "    \n",
    "    # Takes a list of tuples and encodes it into a url-ready string like:\n",
    "    # 'part=contentDetails&key=mykey&forUsername=theAlexJonesChannel'\n",
    "    url_suffix = urllib.urlencode(parameters)\n",
    "    \n",
    "    # Constructs the url to query and returns the json response\n",
    "    http_endpoint = base_url + query_type + '?' + url_suffix\n",
    "    response = requests.get(http_endpoint)\n",
    "    response_json = response.json()\n",
    "    \n",
    "    return response_json"
   ]
  },
  {
   "cell_type": "markdown",
   "metadata": {},
   "source": [
    "We're going to need a helper function that searches through the json responses (dictionaries) for the values that we want. There are occasions in which the target value does not exist in the response. We will deal with this possibility by returning nonexistent values as None. Because we often need multiple values from one dictionary, we'll accept a list of keys, and return a list of the appropriate values from the dictionary. "
   ]
  },
  {
   "cell_type": "code",
   "execution_count": null,
   "metadata": {},
   "outputs": [],
   "source": [
    "def get_values(json_dict, keys):\n",
    "    '''\n",
    "    Occasionally, the API will be missing a value that we need. In those cases, we \n",
    "    return None for that value. Because we often need multiple values from one\n",
    "    JSON dictionary, we'll pass through a list of keys, and return a list of values. \n",
    "    \n",
    "    Inputs: keys - a list of target keys that we need\n",
    "            dictionary - the json dictionary that we are searching through\n",
    "    '''\n",
    "\n",
    "    return [json_dict[key] if key in json_dict else None for key in keys]"
   ]
  },
  {
   "cell_type": "markdown",
   "metadata": {},
   "source": [
    "We'll also need a function that retrieves the necessary information about the channel. Because we are only looking for Jones' uploads, we'll search for the 'uploads' playlist specifically. "
   ]
  },
  {
   "cell_type": "code",
   "execution_count": null,
   "metadata": {},
   "outputs": [],
   "source": [
    "def get_channel_info(username):\n",
    "    ''' Gets the ID of the users uploads playlist, and the channel ID'''\n",
    "\n",
    "    playlist_params = [('part', 'contentDetails,id'), ('forUsername', username)]\n",
    "    playlist_info = get_response('channels', playlist_params)\n",
    "    \n",
    "    playlist_ID = playlist_info['items'][0]['contentDetails']['relatedPlaylists']['uploads']\n",
    "    channel_Id = playlist_info['items'][0]['id']\n",
    "    \n",
    "    return playlist_ID, channel_Id"
   ]
  },
  {
   "cell_type": "markdown",
   "metadata": {},
   "source": [
    "To get a users' uploaded videos, we'll use the playlist ID and then gather all the information we need for each video in the uploads. \n",
    "\n",
    "The YouTube API only returns a maximum of 50 results with every call, so we'll need to move through the pages to get the data using the nextPageToken. We run an initial search with 50 results, and then loop through the rest of the pages. \n",
    "\n",
    "We also only want videos between Jan 1, 2015 and May 4 2018. We'll check each video to make sure it lies between these dates. The videos are listed in chronological order, so if it's more recent than May 4 (May 5 at 00:00), we continue through the loop but ignore this video. If it's older than Jan 1, 2015, then we know we're done and can return our dataframe. "
   ]
  },
  {
   "cell_type": "code",
   "execution_count": null,
   "metadata": {},
   "outputs": [],
   "source": [
    "def get_all_videos(playlist_ID, channel_ID):\n",
    "    '''\n",
    "    Make a pandas dataframe with all the videos uploaded by this user. \n",
    "    \n",
    "    Inputs: playlist_ID - the id of the uploads playlist\n",
    "            channel_ID - the id of the users' channel, which will be written into our final dataframe\n",
    "    Returns: video_df - the dataframe with all the videos' data\n",
    "    '''\n",
    "    \n",
    "    video_data = []\n",
    "    \n",
    "    # The information we'll be collecting for each video\n",
    "    headers = ['video_id', 'channel_title', 'channel_id', 'video_publish_date', 'video_title',\n",
    "               'video_view_count', 'video_like_count', 'video_dislike_count', 'video_comment_count']\n",
    "    \n",
    "    # Get videos in the playlist\n",
    "    video_params = [('part','snippet'), ('playlistId', playlist_ID), ('maxResults', 50)]\n",
    "    video_search = get_response('playlistItems', video_params)\n",
    "    \n",
    "    # While there are more search results, we loop through each page of 50 results \n",
    "    while len(video_search['items']) > 0:\n",
    "        \n",
    "        for video in video_search['items']:\n",
    "            \n",
    "            video_snippet = video['snippet']\n",
    "\n",
    "            # Ignore videos before May 4th, inclusive (so May 5 at 00:00) \n",
    "            if video_snippet['publishedAt'] > '2018-05-05T00:00:00Z':\n",
    "                continue\n",
    "                \n",
    "            # Once we hit Jan 1, 2015, we are done and return the dataframe\n",
    "            elif video_snippet['publishedAt'] < '2015-01-01T00:00:00Z':\n",
    "                video_df = pd.DataFrame(video_data, columns=headers)\n",
    "                return video_df\n",
    "            \n",
    "            # Get the information we need and then add to our whole list of data. \n",
    "            this_video_data = get_video_data(video_snippet, channel_ID)\n",
    "            video_data.append(this_video_data)\n",
    "            print \"Gathering video ID: \" + str(this_video_data[0]) + \", \\n title: \" + this_video_data[4]\n",
    "\n",
    "        # Get the next video using the nextPageToken\n",
    "        next_video = video_params + [('pageToken', video_search['nextPageToken'])]\n",
    "        video_search = get_response('playlistItems', next_video)\n",
    "\n",
    "    video_df = pd.DataFrame(video_data, columns=headers)\n",
    "    return video_df"
   ]
  },
  {
   "cell_type": "markdown",
   "metadata": {},
   "source": [
    "In each video, we'll need to extract the information we want. To get the like, dislike, view and comment counts, we'll need to run one more query to the YouTube API for each individual video."
   ]
  },
  {
   "cell_type": "code",
   "execution_count": null,
   "metadata": {},
   "outputs": [],
   "source": [
    "def get_video_data(video_snippet, channel_Id):\n",
    "    \n",
    "    '''\n",
    "    Takes a snippet of information about a video and turns it into a set of attributes\n",
    "    that we can add to our dataset. We query the YouTube API using a video ID to get the\n",
    "    relevant statistics for that video. \n",
    "    \n",
    "    Inputs: video_snippet - json object containing relevant information about the video\n",
    "            channel_Id - the channel ID of our user\n",
    "    Returns: video_data - a list with all the information we want for this video\n",
    "    '''\n",
    "\n",
    "    video_id = video_snippet['resourceId']['videoId']\n",
    "\n",
    "    # Gather some information that we can get from the video snippet in the playlist results\n",
    "    [video_channel, video_date, video_title] = \\\n",
    "        get_values(video_snippet, ['channelTitle', 'publishedAt', 'title'])\n",
    "        \n",
    "    # Send another query to find the statistics that we need for the individual videos\n",
    "    video_params = [('part', 'statistics'), ('id', video_id)]\n",
    "    video_json = get_response('videos', video_params)\n",
    "\n",
    "    # Get the viewer statistics about this video\n",
    "    [video_items] = get_values(video_json, ['items'])\n",
    "    stats = video_items[0]['statistics']\n",
    "    \n",
    "    # Grab all our information from the stats JSON response and return this row\n",
    "    [video_view_count, video_like_count, video_dislike_count, video_comment_count] = \\\n",
    "        get_values(stats, ['viewCount', 'likeCount', 'dislikeCount', 'commentCount'])\n",
    "\n",
    "    return [video_id, video_channel, channel_Id, video_date, video_title, video_view_count,\n",
    "            video_like_count, video_dislike_count, video_comment_count]"
   ]
  },
  {
   "cell_type": "code",
   "execution_count": null,
   "metadata": {},
   "outputs": [],
   "source": [
    "def main():\n",
    "    username = \"TheAlexJonesChannel\"\n",
    "    \n",
    "    # Start with getting the info we need from the username, and channel\n",
    "    playlist_ID, channel_ID = get_channel_info(username)\n",
    "\n",
    "    # Gather all the video data.\n",
    "    video_df = get_all_videos(playlist_ID, channel_ID)\n",
    "\n",
    "    # Write our data to a CSV (changed for now to metadata2 to not overwrite)\n",
    "    video_df.to_csv(\"../data/video_metadata2.csv\", sep=',', encoding=\"utf-8\", index = False, header=True)\n",
    "\n"
   ]
  },
  {
   "cell_type": "code",
   "execution_count": null,
   "metadata": {},
   "outputs": [],
   "source": [
    "if __name__ == \"__main__\":\n",
    "    main()"
   ]
  }
 ],
 "metadata": {
  "kernelspec": {
   "display_name": "Python 2",
   "language": "python",
   "name": "python2"
  },
  "language_info": {
   "codemirror_mode": {
    "name": "ipython",
    "version": 2
   },
   "file_extension": ".py",
   "mimetype": "text/x-python",
   "name": "python",
   "nbconvert_exporter": "python",
   "pygments_lexer": "ipython2",
   "version": "2.7.14"
  }
 },
 "nbformat": 4,
 "nbformat_minor": 2
}
