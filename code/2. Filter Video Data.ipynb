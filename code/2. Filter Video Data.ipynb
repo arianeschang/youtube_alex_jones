{
 "cells": [
  {
   "cell_type": "markdown",
   "metadata": {},
   "source": [
    "# 2. Filter  Video Metadata\n",
    "\n",
    "Now that we have all the data from Alex Jones' uploads between January 1, 2015 and May 4, 2018, we can filter out the videos that do not mention the mainstream media and prepare the dataset ready for analysis. The list of words given is saved in data/filter_mm_words.txt, so we will open this file and then search through the video titles using the Pandas .contains() method. "
   ]
  },
  {
   "cell_type": "code",
   "execution_count": 1,
   "metadata": {},
   "outputs": [],
   "source": [
    "import pandas as pd\n",
    "from datetime import datetime"
   ]
  },
  {
   "cell_type": "code",
   "execution_count": 2,
   "metadata": {},
   "outputs": [
    {
     "name": "stdout",
     "output_type": "stream",
     "text": [
      "Data written to files.\n"
     ]
    }
   ],
   "source": [
    "video_df = pd.read_csv(\"../data/video_metadata.csv\")\n",
    "\n",
    "# Open the file with the words we want to filter our dataframe on\n",
    "filter_words = open(\"../data/filter_mm_words.txt\").readlines()\n",
    "# Join the list with the OR operator, so that we can search for any of the words\n",
    "filter_words = '|'.join([word.strip().lower() for word in filter_words])\n",
    "\n",
    "# Filter based on if any of the words appear in the video title\n",
    "filtered_mm_df = video_df[video_df['video_title']\n",
    "                          .str.lower().str.contains(filter_words)]\n",
    "other_rows = video_df[~video_df['video_title']\n",
    "                      .str.lower().str.contains(filter_words)]\n",
    "\n",
    "# Save to CSV files\n",
    "filtered_mm_df.to_csv(\"../data/video_metadata_mainstream_media.csv\", \n",
    "                      sep=',', encoding=\"utf-8\", index = False, header=True)\n",
    "other_rows.to_csv(\"../data/video_metadata_not_mainstream_media.csv\", \n",
    "                  sep=',', encoding=\"utf-8\", index = False, header=True)\n",
    "print 'Data written to files.'"
   ]
  }
 ],
 "metadata": {
  "kernelspec": {
   "display_name": "Python 2",
   "language": "python",
   "name": "python2"
  },
  "language_info": {
   "codemirror_mode": {
    "name": "ipython",
    "version": 2
   },
   "file_extension": ".py",
   "mimetype": "text/x-python",
   "name": "python",
   "nbconvert_exporter": "python",
   "pygments_lexer": "ipython2",
   "version": "2.7.14"
  }
 },
 "nbformat": 4,
 "nbformat_minor": 2
}
