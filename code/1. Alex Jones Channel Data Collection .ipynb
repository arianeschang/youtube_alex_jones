{
 "cells": [
  {
   "cell_type": "markdown",
   "metadata": {},
   "source": [
    "# 1. Alex Jones Videos Data Collection \n",
    "\n",
    "On his YouTube channel, Alex Jones often posts videos attacking the credibility of mainstream media. We are interested in doing a small analysis of this phenonemon to see if we might be able to characterize these attacks. \n",
    "\n",
    "First, we'll need to collect the metadata for all the videos posted between January 1st, 2015 and May 4th, 2018 (as specified). "
   ]
  },
  {
   "cell_type": "markdown",
   "metadata": {},
   "source": [
    "We're going to use the pandas library because it's useful and quick when manipulating large amounts of data. "
   ]
  },
  {
   "cell_type": "code",
   "execution_count": 44,
   "metadata": {},
   "outputs": [],
   "source": [
    "import requests\n",
    "import urllib\n",
    "import pandas as pd\n",
    "pd.set_option('display.max_columns', None)  "
   ]
  },
  {
   "cell_type": "markdown",
   "metadata": {},
   "source": [
    "We'll first need to write a function that accesses the YouTube API. We'll be able to use this everytime we need to query some information. "
   ]
  },
  {
   "cell_type": "code",
   "execution_count": 45,
   "metadata": {},
   "outputs": [],
   "source": [
    "def get_response(query_type, parameters):\n",
    "    '''\n",
    "    inputs: query_type - the resource type that we need information for (e.g. playlists, channels, videos, etc.)\n",
    "            parameters - list of tuples correpsonding to the parameter names and their values in our query \n",
    "    '''\n",
    "    base_url = 'https://www.googleapis.com/youtube/v3/'\n",
    "    key = \"mykey\"\n",
    "    \n",
    "    # We always need to pass our key, so we'll add it to the list here\n",
    "    parameters.append(('key', key))\n",
    "    \n",
    "    # Takes a list of tuples and encodes it into a url like:\n",
    "    # 'part=contentDetails&key=mykey&forUsername=theAlexJonesChannel'\n",
    "    url_suffix = urllib.urlencode(parameters)\n",
    "    \n",
    "    # Constructs the url to query and returns the json response\n",
    "    http_endpoint = base_url + query_type + url_suffix\n",
    "    response = requests.get(http_endpoint)\n",
    "    response_json = response.json()\n",
    "    return response_json"
   ]
  },
  {
   "cell_type": "markdown",
   "metadata": {},
   "source": [
    "To get a users' uploaded videos, we'll find the playlist called uploads and then go through the list to find the relevant information for each video. \n",
    "\n",
    "The YouTube API only returns a maximum of 50 results with every call, so we'll need to move through the pages to get the data using the nextPageToken. "
   ]
  },
  {
   "cell_type": "code",
   "execution_count": 46,
   "metadata": {},
   "outputs": [],
   "source": [
    "def get_all_videos(username):\n",
    "    '''\n",
    "    Make a pandas dataframe with all the videos uploaded by this user. \n",
    "    \n",
    "    Inputs: username - the user whose videos we want to list\n",
    "    '''\n",
    "    \n",
    "    video_data = []\n",
    "\n",
    "    # Find the id of the UPLOADS playlist, and the channel_id\n",
    "    playlist_params = [('part', 'contentDetails,id'), ('forUsername', username)]\n",
    "    playlist_info = get_response('channels?', playlist_params)\n",
    "    \n",
    "    playlist_ID = playlist_info['items'][0]['contentDetails']['relatedPlaylists']['uploads']\n",
    "    channel_Id = playlist_info['items'][0]['id']\n",
    "    \n",
    "    # Get videos in the playlist\n",
    "    video_params = [('part','snippet'), ('playlistId',playlist_ID), ('maxResults', 50)]\n",
    "    video_search = get_response('playlistItems?', video_params)\n",
    "    \n",
    "    \n",
    "    # The information we'll be collecting for each video\n",
    "    headers = ['video_id', 'channel_title', 'channel_id', 'video_publish_date', \n",
    "                'video_title', 'video_view_count', 'video_like_count', 'video_dislike_count',\n",
    "                'video_comment_count', 'video_description']\n",
    "\n",
    "    while True:\n",
    "        for video in video_search['items']:\n",
    "            video_snippet = video['snippet']\n",
    "\n",
    "            # The YouTube API does not let us filter the playlist search results by date\n",
    "            # so we'll check if the video falls in our desired time frame before \n",
    "            # processing it. \n",
    "            # Because the videos are largely in descending order, we can break and stop \n",
    "            #searching after we hit January 1st, 2015. \n",
    "            if video_snippet['publishedAt'] > '2018-05-05T00:00:00Z':\n",
    "                print video_snippet['publishedAt']\n",
    "                continue\n",
    "            elif video_snippet['publishedAt'] < '2015-01-01T00:00:00Z':\n",
    "                return video_data\n",
    "            \n",
    "            # Get the information we need and then add to our whole list of data. \n",
    "            this_video_data = get_video_data(video_snippet, channel_Id)\n",
    "            video_data.append(this_video_data)\n",
    "\n",
    "        # Get the next video. \n",
    "        next_video = video_params + [('pageToken', video_search['nextPageToken'])]\n",
    "        video_search = get_response('playlistItems?', next_video)\n",
    "\n",
    "        # Save our data so far just to be safe \n",
    "        video_df = pd.DataFrame(video_data, columns=headers)\n",
    "        video_df.to_pickle(\"data/video_data.pkl\")\n",
    "\n",
    "        # If there's no more results, we break and return our dataframe\n",
    "        if len(video_search['items']) == 0:\n",
    "            return video_df"
   ]
  },
  {
   "cell_type": "markdown",
   "metadata": {},
   "source": [
    "In each video, we'll need to extract the information we want. To get the like, dislike, view and comment counts, we'll need to run one more query to the YouTube API, videos section. "
   ]
  },
  {
   "cell_type": "code",
   "execution_count": 47,
   "metadata": {},
   "outputs": [],
   "source": [
    "def get_video_data(video_snippet, channel_Id):\n",
    "    \n",
    "    '''\n",
    "    Takes a snippet of information about a video and turns it into a set of attributes\n",
    "    that we can add to our dataset. We query the YouTube API using the video ID to get the\n",
    "    relevant statistics for that video. \n",
    "    \n",
    "    Inputs: video_snippet - json object containing relevant information about the video\n",
    "            vhannel_Id - the channel ID of our user\n",
    "    '''\n",
    "\n",
    "    video_id = video_snippet['resourceId']['videoId']\n",
    "\n",
    "    video_channel = video_snippet['channelTitle']\n",
    "    video_date = video_snippet['publishedAt']\n",
    "    video_title = video_snippet['title']\n",
    "    video_description = video_snippet['description'].split('\\n')[0].strip()\n",
    "\n",
    "    # Another query to find the statistics that we need for the video\n",
    "    video_params = [('part', 'statistics'), ('id', video_id)]\n",
    "    video_json = get_response('videos?', video_params)\n",
    "\n",
    "    # Arrange all our data into a list and return it\n",
    "    stats = video_json['items'][0]['statistics']\n",
    "    \n",
    "    video_view_count = get_value(stats, 'viewCount')\n",
    "    video_like_count = get_value(stats, 'likeCount')\n",
    "    video_dislike_count = get_value(stats, 'dislikeCount')\n",
    "    video_comment_count = get_value(stats, 'commentCount')\n",
    "\n",
    "    this_video = [video_id, video_channel, channel_Id, video_date, video_title, video_view_count,\n",
    "            video_like_count, video_dislike_count, video_comment_count, video_description]\n",
    "    \n",
    "    return this_video\n",
    "\n",
    "def get_value(dictionary, key):\n",
    "    # Sometimes, keys don't exist so we write these as None in our data.  \n",
    "    if key in dictionary:\n",
    "        return dictionary[key]\n",
    "    else:\n",
    "        return None"
   ]
  },
  {
   "cell_type": "code",
   "execution_count": 48,
   "metadata": {},
   "outputs": [],
   "source": [
    "def main():\n",
    "    username = \"TheAlexJonesChannel\"\n",
    "\n",
    "    # If we haven't yet extracted the data\n",
    "    video_data = get_all_videos(username)\n",
    "\n",
    "    # Write our data to a CSV\n",
    "    video_data.to_csv(\"data/video_data.csv\", sep=',', encoding=\"utf-8\", index = False, header=True)\n",
    "\n"
   ]
  },
  {
   "cell_type": "code",
   "execution_count": 49,
   "metadata": {},
   "outputs": [
    {
     "name": "stdout",
     "output_type": "stream",
     "text": [
      "{u'items': [{u'contentDetails': {u'relatedPlaylists': {u'watchHistory': u'HL', u'uploads': u'UUvsye7V9psc-APX6wV1twLg', u'watchLater': u'WL'}}, u'kind': u'youtube#channel', u'etag': u'\"DuHzAJ-eQIiCIp7p4ldoVcVAOeY/V8f5FBxTqT8pyCwIAMymsi2xWJA\"', u'id': u'UCvsye7V9psc-APX6wV1twLg'}], u'kind': u'youtube#channelListResponse', u'etag': u'\"DuHzAJ-eQIiCIp7p4ldoVcVAOeY/JjAYGNZkNMNx3ix2Cf3BUh-pLjY\"', u'pageInfo': {u'resultsPerPage': 5, u'totalResults': 1}}\n",
      "2018-05-18T22:30:17.000Z\n",
      "2018-05-18T22:15:44.000Z\n",
      "2018-05-18T21:06:18.000Z\n",
      "2018-05-18T21:04:16.000Z\n",
      "2018-05-18T20:52:23.000Z\n",
      "2018-05-18T20:31:07.000Z\n",
      "2018-05-18T19:50:15.000Z\n",
      "2018-05-18T19:05:00.000Z\n",
      "2018-05-18T19:51:29.000Z\n",
      "2018-05-18T18:22:37.000Z\n",
      "2018-05-18T17:32:39.000Z\n",
      "2018-05-18T17:08:17.000Z\n",
      "2018-05-18T18:11:37.000Z\n",
      "2018-05-18T01:58:28.000Z\n",
      "2018-05-18T01:16:04.000Z\n",
      "2018-05-17T23:49:40.000Z\n",
      "2018-05-17T23:32:36.000Z\n",
      "2018-05-17T23:22:17.000Z\n",
      "2018-05-17T21:23:32.000Z\n",
      "2018-05-17T21:09:46.000Z\n",
      "2018-05-17T19:38:33.000Z\n",
      "2018-05-17T20:21:36.000Z\n",
      "2018-05-18T00:00:01.000Z\n",
      "2018-05-18T00:30:00.000Z\n",
      "2018-05-17T18:54:20.000Z\n",
      "2018-05-17T18:07:54.000Z\n",
      "2018-05-17T17:29:38.000Z\n",
      "2018-05-17T14:43:07.000Z\n",
      "2018-05-17T02:10:29.000Z\n",
      "2018-05-17T01:11:54.000Z\n",
      "2018-05-17T11:00:01.000Z\n",
      "2018-05-16T22:54:49.000Z\n",
      "2018-05-16T23:32:15.000Z\n",
      "2018-05-16T20:58:57.000Z\n",
      "2018-05-16T21:00:44.000Z\n",
      "2018-05-16T20:48:01.000Z\n",
      "2018-05-16T20:34:36.000Z\n",
      "2018-05-17T00:00:00.000Z\n",
      "2018-05-16T19:03:46.000Z\n",
      "2018-05-17T00:30:00.000Z\n",
      "2018-05-16T17:54:57.000Z\n",
      "2018-05-16T17:48:57.000Z\n",
      "2018-05-16T16:45:46.000Z\n",
      "2018-05-16T15:32:58.000Z\n",
      "2018-05-16T01:55:35.000Z\n",
      "2018-05-16T01:21:20.000Z\n",
      "2018-05-16T00:07:09.000Z\n",
      "2018-05-15T23:37:51.000Z\n",
      "2018-05-15T23:09:24.000Z\n",
      "2018-05-15T22:39:15.000Z\n"
     ]
    },
    {
     "ename": "IOError",
     "evalue": "[Errno 2] No such file or directory: 'data/video_data2.pkl'",
     "output_type": "error",
     "traceback": [
      "\u001b[0;31m---------------------------------------------------------------------------\u001b[0m",
      "\u001b[0;31mIOError\u001b[0m                                   Traceback (most recent call last)",
      "\u001b[0;32m<ipython-input-49-89026442c8a6>\u001b[0m in \u001b[0;36m<module>\u001b[0;34m()\u001b[0m\n\u001b[1;32m      1\u001b[0m \u001b[0;32mif\u001b[0m \u001b[0m__name__\u001b[0m \u001b[0;34m==\u001b[0m \u001b[0;34m\"__main__\"\u001b[0m\u001b[0;34m:\u001b[0m\u001b[0;34m\u001b[0m\u001b[0m\n\u001b[0;32m----> 2\u001b[0;31m     \u001b[0mmain\u001b[0m\u001b[0;34m(\u001b[0m\u001b[0;34m)\u001b[0m\u001b[0;34m\u001b[0m\u001b[0m\n\u001b[0m",
      "\u001b[0;32m<ipython-input-48-c355e45dd25b>\u001b[0m in \u001b[0;36mmain\u001b[0;34m()\u001b[0m\n\u001b[1;32m      3\u001b[0m \u001b[0;34m\u001b[0m\u001b[0m\n\u001b[1;32m      4\u001b[0m     \u001b[0;31m# If we haven't yet extracted the data\u001b[0m\u001b[0;34m\u001b[0m\u001b[0;34m\u001b[0m\u001b[0m\n\u001b[0;32m----> 5\u001b[0;31m     \u001b[0mvideo_data\u001b[0m \u001b[0;34m=\u001b[0m \u001b[0mget_all_videos\u001b[0m\u001b[0;34m(\u001b[0m\u001b[0musername\u001b[0m\u001b[0;34m)\u001b[0m\u001b[0;34m\u001b[0m\u001b[0m\n\u001b[0m\u001b[1;32m      6\u001b[0m \u001b[0;34m\u001b[0m\u001b[0m\n\u001b[1;32m      7\u001b[0m     \u001b[0;31m# Write our data to a CSV\u001b[0m\u001b[0;34m\u001b[0m\u001b[0;34m\u001b[0m\u001b[0m\n",
      "\u001b[0;32m<ipython-input-46-8855eb882def>\u001b[0m in \u001b[0;36mget_all_videos\u001b[0;34m(username)\u001b[0m\n\u001b[1;32m     51\u001b[0m         \u001b[0;31m# Save our data so far just to be safe\u001b[0m\u001b[0;34m\u001b[0m\u001b[0;34m\u001b[0m\u001b[0m\n\u001b[1;32m     52\u001b[0m         \u001b[0mvideo_df\u001b[0m \u001b[0;34m=\u001b[0m \u001b[0mpd\u001b[0m\u001b[0;34m.\u001b[0m\u001b[0mDataFrame\u001b[0m\u001b[0;34m(\u001b[0m\u001b[0mvideo_data\u001b[0m\u001b[0;34m,\u001b[0m \u001b[0mcolumns\u001b[0m\u001b[0;34m=\u001b[0m\u001b[0mheaders\u001b[0m\u001b[0;34m)\u001b[0m\u001b[0;34m\u001b[0m\u001b[0m\n\u001b[0;32m---> 53\u001b[0;31m         \u001b[0mvideo_df\u001b[0m\u001b[0;34m.\u001b[0m\u001b[0mto_pickle\u001b[0m\u001b[0;34m(\u001b[0m\u001b[0;34m\"data/video_data2.pkl\"\u001b[0m\u001b[0;34m)\u001b[0m\u001b[0;34m\u001b[0m\u001b[0m\n\u001b[0m\u001b[1;32m     54\u001b[0m \u001b[0;34m\u001b[0m\u001b[0m\n\u001b[1;32m     55\u001b[0m         \u001b[0;31m# If there's no more results, we break and return our dataframe\u001b[0m\u001b[0;34m\u001b[0m\u001b[0;34m\u001b[0m\u001b[0m\n",
      "\u001b[0;32m/Users/arianeschang/anaconda2/lib/python2.7/site-packages/pandas/core/generic.pyc\u001b[0m in \u001b[0;36mto_pickle\u001b[0;34m(self, path, compression, protocol)\u001b[0m\n\u001b[1;32m   1562\u001b[0m         \u001b[0;32mfrom\u001b[0m \u001b[0mpandas\u001b[0m\u001b[0;34m.\u001b[0m\u001b[0mio\u001b[0m\u001b[0;34m.\u001b[0m\u001b[0mpickle\u001b[0m \u001b[0;32mimport\u001b[0m \u001b[0mto_pickle\u001b[0m\u001b[0;34m\u001b[0m\u001b[0m\n\u001b[1;32m   1563\u001b[0m         return to_pickle(self, path, compression=compression,\n\u001b[0;32m-> 1564\u001b[0;31m                          protocol=protocol)\n\u001b[0m\u001b[1;32m   1565\u001b[0m \u001b[0;34m\u001b[0m\u001b[0m\n\u001b[1;32m   1566\u001b[0m     \u001b[0;32mdef\u001b[0m \u001b[0mto_clipboard\u001b[0m\u001b[0;34m(\u001b[0m\u001b[0mself\u001b[0m\u001b[0;34m,\u001b[0m \u001b[0mexcel\u001b[0m\u001b[0;34m=\u001b[0m\u001b[0mNone\u001b[0m\u001b[0;34m,\u001b[0m \u001b[0msep\u001b[0m\u001b[0;34m=\u001b[0m\u001b[0mNone\u001b[0m\u001b[0;34m,\u001b[0m \u001b[0;34m**\u001b[0m\u001b[0mkwargs\u001b[0m\u001b[0;34m)\u001b[0m\u001b[0;34m:\u001b[0m\u001b[0;34m\u001b[0m\u001b[0m\n",
      "\u001b[0;32m/Users/arianeschang/anaconda2/lib/python2.7/site-packages/pandas/io/pickle.pyc\u001b[0m in \u001b[0;36mto_pickle\u001b[0;34m(obj, path, compression, protocol)\u001b[0m\n\u001b[1;32m     39\u001b[0m     f, fh = _get_handle(path, 'wb',\n\u001b[1;32m     40\u001b[0m                         \u001b[0mcompression\u001b[0m\u001b[0;34m=\u001b[0m\u001b[0minferred_compression\u001b[0m\u001b[0;34m,\u001b[0m\u001b[0;34m\u001b[0m\u001b[0m\n\u001b[0;32m---> 41\u001b[0;31m                         is_text=False)\n\u001b[0m\u001b[1;32m     42\u001b[0m     \u001b[0;32mif\u001b[0m \u001b[0mprotocol\u001b[0m \u001b[0;34m<\u001b[0m \u001b[0;36m0\u001b[0m\u001b[0;34m:\u001b[0m\u001b[0;34m\u001b[0m\u001b[0m\n\u001b[1;32m     43\u001b[0m         \u001b[0mprotocol\u001b[0m \u001b[0;34m=\u001b[0m \u001b[0mpkl\u001b[0m\u001b[0;34m.\u001b[0m\u001b[0mHIGHEST_PROTOCOL\u001b[0m\u001b[0;34m\u001b[0m\u001b[0m\n",
      "\u001b[0;32m/Users/arianeschang/anaconda2/lib/python2.7/site-packages/pandas/io/common.pyc\u001b[0m in \u001b[0;36m_get_handle\u001b[0;34m(path_or_buf, mode, encoding, compression, memory_map, is_text)\u001b[0m\n\u001b[1;32m    385\u001b[0m         \u001b[0;32mif\u001b[0m \u001b[0mcompat\u001b[0m\u001b[0;34m.\u001b[0m\u001b[0mPY2\u001b[0m\u001b[0;34m:\u001b[0m\u001b[0;34m\u001b[0m\u001b[0m\n\u001b[1;32m    386\u001b[0m             \u001b[0;31m# Python 2\u001b[0m\u001b[0;34m\u001b[0m\u001b[0;34m\u001b[0m\u001b[0m\n\u001b[0;32m--> 387\u001b[0;31m             \u001b[0mf\u001b[0m \u001b[0;34m=\u001b[0m \u001b[0mopen\u001b[0m\u001b[0;34m(\u001b[0m\u001b[0mpath_or_buf\u001b[0m\u001b[0;34m,\u001b[0m \u001b[0mmode\u001b[0m\u001b[0;34m)\u001b[0m\u001b[0;34m\u001b[0m\u001b[0m\n\u001b[0m\u001b[1;32m    388\u001b[0m         \u001b[0;32melif\u001b[0m \u001b[0mencoding\u001b[0m\u001b[0;34m:\u001b[0m\u001b[0;34m\u001b[0m\u001b[0m\n\u001b[1;32m    389\u001b[0m             \u001b[0;31m# Python 3 and encoding\u001b[0m\u001b[0;34m\u001b[0m\u001b[0;34m\u001b[0m\u001b[0m\n",
      "\u001b[0;31mIOError\u001b[0m: [Errno 2] No such file or directory: 'data/video_data2.pkl'"
     ]
    }
   ],
   "source": [
    "if __name__ == \"__main__\":\n",
    "    main()"
   ]
  },
  {
   "cell_type": "code",
   "execution_count": null,
   "metadata": {},
   "outputs": [],
   "source": []
  },
  {
   "cell_type": "code",
   "execution_count": null,
   "metadata": {},
   "outputs": [],
   "source": []
  }
 ],
 "metadata": {
  "kernelspec": {
   "display_name": "Python 2",
   "language": "python",
   "name": "python2"
  },
  "language_info": {
   "codemirror_mode": {
    "name": "ipython",
    "version": 2
   },
   "file_extension": ".py",
   "mimetype": "text/x-python",
   "name": "python",
   "nbconvert_exporter": "python",
   "pygments_lexer": "ipython2",
   "version": "2.7.14"
  }
 },
 "nbformat": 4,
 "nbformat_minor": 2
}
